{
    "cells": [
     {
      "cell_type": "markdown",
      "id": "fda4cf67",
      "metadata": {
       "papermill": {
        "duration": 0.010721,
        "end_time": "2024-04-07T20:01:32.518885",
        "exception": false,
        "start_time": "2024-04-07T20:01:32.508164",
        "status": "completed"
       },
       "tags": []
      },
      "source": [
       "# Imports "
      ]
     },
     {
      "cell_type": "code",
      "execution_count": 1,
      "id": "307f8b69",
      "metadata": {
       "_kg_hide-output": true,
       "execution": {
        "iopub.execute_input": "2024-04-07T20:01:32.540968Z",
        "iopub.status.busy": "2024-04-07T20:01:32.540084Z",
        "iopub.status.idle": "2024-04-07T20:01:50.485523Z",
        "shell.execute_reply": "2024-04-07T20:01:50.484385Z"
       },
       "papermill": {
        "duration": 17.959468,
        "end_time": "2024-04-07T20:01:50.488342",
        "exception": false,
        "start_time": "2024-04-07T20:01:32.528874",
        "status": "completed"
       },
       "tags": []
      },
      "outputs": [
       {
        "name": "stdout",
        "output_type": "stream",
        "text": [
         "Collecting minisom\r\n",
         "  Downloading MiniSom-2.3.2.tar.gz (10 kB)\r\n",
         "  Preparing metadata (setup.py) ... \u001b[?25l-\b \b\\\b \bdone\r\n",
         "\u001b[?25hBuilding wheels for collected packages: minisom\r\n",
         "  Building wheel for minisom (setup.py) ... \u001b[?25l-\b \b\\\b \bdone\r\n",
         "\u001b[?25h  Created wheel for minisom: filename=MiniSom-2.3.2-py3-none-any.whl size=10650 sha256=df780668d1895644afcb40bc154ac84c54f6e1a1231dc1239630e25c3fea3a8e\r\n",
         "  Stored in directory: /root/.cache/pip/wheels/b4/f6/8a/9daf8831901c3e3805775633404248f10663d1c80b7e5a1314\r\n",
         "Successfully built minisom\r\n",
         "Installing collected packages: minisom\r\n",
         "Successfully installed minisom-2.3.2\r\n"
        ]
       }
      ],
      "source": [
       "!pip install minisom"
      ]
     },
     {
      "cell_type": "code",
      "execution_count": 2,
      "id": "69a136b8",
      "metadata": {
       "execution": {
        "iopub.execute_input": "2024-04-07T20:01:50.511144Z",
        "iopub.status.busy": "2024-04-07T20:01:50.510690Z",
        "iopub.status.idle": "2024-04-07T20:01:53.830535Z",
        "shell.execute_reply": "2024-04-07T20:01:53.829436Z"
       },
       "papermill": {
        "duration": 3.334377,
        "end_time": "2024-04-07T20:01:53.833411",
        "exception": false,
        "start_time": "2024-04-07T20:01:50.499034",
        "status": "completed"
       },
       "tags": []
      },
      "outputs": [],
      "source": [
       "import pandas as pd\n",
       "import matplotlib.pyplot as plt\n",
       "import seaborn as sns\n",
       "from sklearn.preprocessing import StandardScaler, LabelEncoder\n",
       "from sklearn.cluster import KMeans, DBSCAN\n",
       "import numpy as np\n",
       "import plotly.express as px\n",
       "from sklearn.neighbors import LocalOutlierFactor\n",
       "from minisom import MiniSom\n",
       "import warnings\n",
       "from sklearn.exceptions import ConvergenceWarning\n",
       "\n",
       "warnings.simplefilter(action='ignore', category=FutureWarning)\n",
       "warnings.simplefilter(action='ignore', category=ConvergenceWarning)"
      ]
     },
     {
      "cell_type": "markdown",
      "id": "a0daf8c7",
      "metadata": {
       "papermill": {
        "duration": 0.010296,
        "end_time": "2024-04-07T20:01:53.854834",
        "exception": false,
        "start_time": "2024-04-07T20:01:53.844538",
        "status": "completed"
       },
       "tags": []
      },
      "source": [
       "# Reading and Exploring the data"
      ]
     },
     {
      "cell_type": "code",
      "execution_count": 3,
      "id": "c1ea2248",
      "metadata": {
       "execution": {
        "iopub.execute_input": "2024-04-07T20:01:53.877584Z",
        "iopub.status.busy": "2024-04-07T20:01:53.877009Z",
        "iopub.status.idle": "2024-04-07T20:01:53.914452Z",
        "shell.execute_reply": "2024-04-07T20:01:53.913348Z"
       },
       "papermill": {
        "duration": 0.051548,
        "end_time": "2024-04-07T20:01:53.916845",
        "exception": false,
        "start_time": "2024-04-07T20:01:53.865297",
        "status": "completed"
       },
       "tags": []
      },
      "outputs": [
       {
        "data": {
         "text/html": [
          "<div>\n",
          "<style scoped>\n",
          "    .dataframe tbody tr th:only-of-type {\n",
          "        vertical-align: middle;\n",
          "    }\n",
          "\n",
          "    .dataframe tbody tr th {\n",
          "        vertical-align: top;\n",
          "    }\n",
          "\n",
          "    .dataframe thead th {\n",
          "        text-align: right;\n",
          "    }\n",
          "</style>\n",
          "<table border=\"1\" class=\"dataframe\">\n",
          "  <thead>\n",
          "    <tr style=\"text-align: right;\">\n",
          "      <th></th>\n",
          "      <th>Gender</th>\n",
          "      <th>Age</th>\n",
          "      <th>Annual Income (k$)</th>\n",
          "      <th>Spending Score (1-100)</th>\n",
          "    </tr>\n",
          "  </thead>\n",
          "  <tbody>\n",
          "    <tr>\n",
          "      <th>0</th>\n",
          "      <td>Male</td>\n",
          "      <td>19</td>\n",
          "      <td>15</td>\n",
          "      <td>39</td>\n",
          "    </tr>\n",
          "    <tr>\n",
          "      <th>1</th>\n",
          "      <td>Male</td>\n",
          "      <td>21</td>\n",
          "      <td>15</td>\n",
          "      <td>81</td>\n",
          "    </tr>\n",
          "    <tr>\n",
          "      <th>2</th>\n",
          "      <td>Female</td>\n",
          "      <td>20</td>\n",
          "      <td>16</td>\n",
          "      <td>6</td>\n",
          "    </tr>\n",
          "    <tr>\n",
          "      <th>3</th>\n",
          "      <td>Female</td>\n",
          "      <td>23</td>\n",
          "      <td>16</td>\n",
          "      <td>77</td>\n",
          "    </tr>\n",
          "    <tr>\n",
          "      <th>4</th>\n",
          "      <td>Female</td>\n",
          "      <td>31</td>\n",
          "      <td>17</td>\n",
          "      <td>40</td>\n",
          "    </tr>\n",
          "  </tbody>\n",
          "</table>\n",
          "</div>"
         ],
         "text/plain": [
          "   Gender  Age  Annual Income (k$)  Spending Score (1-100)\n",
          "0    Male   19                  15                      39\n",
          "1    Male   21                  15                      81\n",
          "2  Female   20                  16                       6\n",
          "3  Female   23                  16                      77\n",
          "4  Female   31                  17                      40"
         ]
        },
        "execution_count": 3,
        "metadata": {},
        "output_type": "execute_result"
       }
      ],
      "source": [
       "train_data = pd.read_csv('../input/customer-segmentation-tutorial-in-python/Mall_Customers.csv')\n",
       "train_data = train_data.drop('CustomerID', axis=1)\n",
       "\n",
       "train_data.head()"
      ]
     },
     {
      "cell_type": "code",
      "execution_count": 4,
      "id": "b65fa1fc",
      "metadata": {
       "execution": {
        "iopub.execute_input": "2024-04-07T20:01:53.941498Z",
        "iopub.status.busy": "2024-04-07T20:01:53.940851Z",
        "iopub.status.idle": "2024-04-07T20:01:53.946938Z",
        "shell.execute_reply": "2024-04-07T20:01:53.945854Z"
       },
       "papermill": {
        "duration": 0.020775,
        "end_time": "2024-04-07T20:01:53.949004",
        "exception": false,
        "start_time": "2024-04-07T20:01:53.928229",
        "status": "completed"
       },
       "tags": []
      },
      "outputs": [
       {
        "name": "stdout",
        "output_type": "stream",
        "text": [
         "train_data rows:  200\n",
         "train_data columns:  4\n"
        ]
       }
      ],
      "source": [
       "print('train_data rows: ',train_data.shape[0])\n",
       "print('train_data columns: ',train_data.shape[1])"
      ]
     },
     {
      "cell_type": "markdown",
      "id": "77a514c3",
      "metadata": {
       "papermill": {
        "duration": 0.010523,
        "end_time": "2024-04-07T20:01:53.970519",
        "exception": false,
        "start_time": "2024-04-07T20:01:53.959996",
        "status": "completed"
       },
       "tags": []
      },
      "source": [
       "Checking if there is **any missing values.**"
      ]
     },
     {
      "cell_type": "code",
      "execution_count": 5,
      "id": "f780d811",
      "metadata": {
       "execution": {
        "iopub.execute_input": "2024-04-07T20:01:53.995972Z",
        "iopub.status.busy": "2024-04-07T20:01:53.995285Z",
        "iopub.status.idle": "2024-04-07T20:01:54.005693Z",
        "shell.execute_reply": "2024-04-07T20:01:54.004447Z"
       },
       "papermill": {
        "duration": 0.025496,
        "end_time": "2024-04-07T20:01:54.008089",
        "exception": false,
        "start_time": "2024-04-07T20:01:53.982593",
        "status": "completed"
       },
       "tags": []
      },
      "outputs": [
       {
        "name": "stdout",
        "output_type": "stream",
        "text": [
         "Total number of columns with missing values: 0\n"
        ]
       }
      ],
      "source": [
       "train_missing_values = train_data.isnull().sum()\n",
       "num_columns_with_train_missing_values = (train_missing_values > 0).sum()\n",
       "print(f'Total number of columns with missing values: {num_columns_with_train_missing_values}')"
      ]
     },
     {
      "cell_type": "markdown",
      "id": "09aa2526",
      "metadata": {
       "papermill": {
        "duration": 0.011127,
        "end_time": "2024-04-07T20:01:54.030574",
        "exception": false,
        "start_time": "2024-04-07T20:01:54.019447",
        "status": "completed"
       },
       "tags": []
      },
      "source": [
       "Checking **datatypes** of our features"
      ]
     },
     {
      "cell_type": "code",
      "execution_count": 6,
      "id": "3b3691b9",
      "metadata": {
       "execution": {
        "iopub.execute_input": "2024-04-07T20:01:54.057027Z",
        "iopub.status.busy": "2024-04-07T20:01:54.056651Z",
        "iopub.status.idle": "2024-04-07T20:01:54.062331Z",
        "shell.execute_reply": "2024-04-07T20:01:54.061530Z"
       },
       "papermill": {
        "duration": 0.023024,
        "end_time": "2024-04-07T20:01:54.065201",
        "exception": false,
        "start_time": "2024-04-07T20:01:54.042177",
        "status": "completed"
       },
       "tags": []
      },
      "outputs": [
       {
        "name": "stdout",
        "output_type": "stream",
        "text": [
         "Data Types:\n",
         "Gender                    object\n",
         "Age                        int64\n",
         "Annual Income (k$)         int64\n",
         "Spending Score (1-100)     int64\n",
         "dtype: object\n"
        ]
       }
      ],
      "source": [
       "print(\"Data Types:\")\n",
       "print(train_data.dtypes)"
      ]
     },
     {
      "cell_type": "markdown",
      "id": "00d0e217",
      "metadata": {
       "papermill": {
        "duration": 0.010999,
        "end_time": "2024-04-07T20:01:54.087865",
        "exception": false,
        "start_time": "2024-04-07T20:01:54.076866",
        "status": "completed"
       },
       "tags": []
      },
      "source": [
       "Checking ther **number of unqiue values** for each feature"
      ]
     },
     {
      "cell_type": "code",
      "execution_count": 7,
      "id": "9bce42c0",
      "metadata": {
       "execution": {
        "iopub.execute_input": "2024-04-07T20:01:54.112600Z",
        "iopub.status.busy": "2024-04-07T20:01:54.111921Z",
        "iopub.status.idle": "2024-04-07T20:01:54.123173Z",
        "shell.execute_reply": "2024-04-07T20:01:54.122143Z"
       },
       "papermill": {
        "duration": 0.026051,
        "end_time": "2024-04-07T20:01:54.125212",
        "exception": false,
        "start_time": "2024-04-07T20:01:54.099161",
        "status": "completed"
       },
       "tags": []
      },
      "outputs": [
       {
        "name": "stdout",
        "output_type": "stream",
        "text": [
         "Spending Score (1-100)    84\n",
         "Annual Income (k$)        64\n",
         "Age                       51\n",
         "Gender                     2\n",
         "dtype: int64 unique values\n"
        ]
       }
      ],
      "source": [
       "unique_values_per_column = train_data.nunique()\n",
       "sorted_unique_values = unique_values_per_column.sort_values(ascending=False)\n",
       "\n",
       "print(f\"{sorted_unique_values} unique values\")"
      ]
     },
     {
      "cell_type": "markdown",
      "id": "c291a1ea",
      "metadata": {
       "papermill": {
        "duration": 0.011103,
        "end_time": "2024-04-07T20:01:54.147797",
        "exception": false,
        "start_time": "2024-04-07T20:01:54.136694",
        "status": "completed"
       },
       "tags": []
      },
      "source": [
       "Plotting **Gender** attributes."
      ]
     },
     {
      "cell_type": "code",
      "execution_count": 8,
      "id": "22419c49",
      "metadata": {
       "execution": {
        "iopub.execute_input": "2024-04-07T20:01:54.172511Z",
        "iopub.status.busy": "2024-04-07T20:01:54.172045Z",
        "iopub.status.idle": "2024-04-07T20:01:54.480933Z",
        "shell.execute_reply": "2024-04-07T20:01:54.479454Z"
       },
       "papermill": {
        "duration": 0.325697,
        "end_time": "2024-04-07T20:01:54.484966",
        "exception": false,
        "start_time": "2024-04-07T20:01:54.159269",
        "status": "completed"
       },
       "tags": []
      },
      "outputs": [
       {
        "data": {
         "image/png": "[encoded data removed]",
         "text/plain": [
          "<Figure size 800x500 with 1 Axes>"
         ]
        },
        "metadata": {},
        "output_type": "display_data"
       }
      ],
      "source": [
       "import matplotlib.pyplot as plt\n",
       "\n",
       "colors = ['#588157', '#a3b18a']  # Dark green and olive green\n",
       "gender_counts = train_data['Gender'].value_counts()\n",
       "\n",
       "fig, ax = plt.subplots(1, 1, figsize=(8, 5))\n",
       "\n",
       "ax.pie(\n",
       "    gender_counts, \n",
       "    labels=gender_counts.index,\n",
       "    shadow=True, \n",
       "    explode=[.1 for i in range(gender_counts.nunique())],  # Adjust the explode based on the number of unique values\n",
       "    autopct='%1.f%%',\n",
       "    colors=colors,  # Specify the colors here\n",
       "    textprops={'size': 14, 'color': 'white'}\n",
       ")\n",
       "\n",
       "ax.set_title('Gender Distribution in Train Dataset', fontsize=20, fontweight='bold')\n",
       "\n",
       "plt.tight_layout()\n",
       "plt.show()\n"
      ]
     },
     {
      "cell_type": "markdown",
      "id": "1f49d554",
      "metadata": {
       "papermill": {
        "duration": 0.011838,
        "end_time": "2024-04-07T20:01:54.519259",
        "exception": false,
        "start_time": "2024-04-07T20:01:54.507421",
        "status": "completed"
       },
       "tags": []
      },
      "source": [
       "💡 More males than females"
      ]
     },
     {
      "cell_type": "code",
      "execution_count": 9,
      "id": "9e9bebba",
      "metadata": {
       "execution": {
        "iopub.execute_input": "2024-04-07T20:01:54.545302Z",
        "iopub.status.busy": "2024-04-07T20:01:54.544593Z",
        "iopub.status.idle": "2024-04-07T20:01:54.863407Z",
        "shell.execute_reply": "2024-04-07T20:01:54.862431Z"
       },
       "papermill": {
        "duration": 0.334659,
        "end_time": "2024-04-07T20:01:54.865931",
        "exception": false,
        "start_time": "2024-04-07T20:01:54.531272",
        "status": "completed"
       },
       "tags": []
      },
      "outputs": [
       {
        "data": {
         "image/png": "[encoded data removed]",
         "text/plain": [
          "<Figure size 500x500 with 2 Axes>"
         ]
        },
        "metadata": {},
        "output_type": "display_data"
       }
      ],
      "source": [
       "selected_features = [\n",
       "    'Age','Annual Income (k$)','Spending Score (1-100)'\n",
       "]\n",
       "\n",
       "subset_correlation_matrix = train_data[selected_features].corr()\n",
       "\n",
       "plt.figure(figsize=(5, 5))\n",
       "sns.heatmap(\n",
       "    subset_correlation_matrix,\n",
       "    annot=True,\n",
       "    fmt=\".2f\",\n",
       "    linewidths=.5\n",
       ")\n",
       "\n",
       "plt.show()"
      ]
     },
     {
      "cell_type": "markdown",
      "id": "2d18df4c",
      "metadata": {
       "papermill": {
        "duration": 0.012408,
        "end_time": "2024-04-07T20:01:54.891275",
        "exception": false,
        "start_time": "2024-04-07T20:01:54.878867",
        "status": "completed"
       },
       "tags": []
      },
      "source": [
       "💡 Values are neither below -0.5 or above 0.5 which falls within acceptable range and there is nothing concerning."
      ]
     },
     {
      "cell_type": "code",
      "execution_count": 10,
      "id": "c642d68b",
      "metadata": {
       "execution": {
        "iopub.execute_input": "2024-04-07T20:01:54.918961Z",
        "iopub.status.busy": "2024-04-07T20:01:54.918000Z",
        "iopub.status.idle": "2024-04-07T20:01:55.512339Z",
        "shell.execute_reply": "2024-04-07T20:01:55.511436Z"
       },
       "papermill": {
        "duration": 0.611571,
        "end_time": "2024-04-07T20:01:55.515337",
        "exception": false,
        "start_time": "2024-04-07T20:01:54.903766",
        "status": "completed"
       },
       "tags": []
      },
      "outputs": [
       {
        "data": {
         "image/png": "[encoded data removed]",
         "text/plain": [
          "<Figure size 1000x600 with 1 Axes>"
         ]
        },
        "metadata": {},
        "output_type": "display_data"
       }
      ],
      "source": [
       "sns.set_style(\"darkgrid\")\n",
       "sns.set_palette(\"Set2\")\n",
       "\n",
       "columns_to_plot = ['Age']\n",
       "\n",
       "for column in columns_to_plot:\n",
       "    plt.figure(figsize=(10, 6))\n",
       "    sns.histplot(data=train_data, x=column, multiple=\"stack\", kde=True, alpha=0.6, linewidth=1.5, edgecolor='black')\n",
       "    plt.xlabel('Age', fontsize=14, fontweight='bold', color='black')\n",
       "    plt.ylabel('Count', fontsize=14, fontweight='bold', color='black')\n",
       "    plt.xticks(fontsize=12, color='black')\n",
       "    plt.yticks(fontsize=12, color='black')\n",
       "    plt.xlim(0, 80)\n",
       "    plt.ylim(0, 50)\n",
       "    plt.tight_layout()\n",
       "    plt.show()"
      ]
     },
     {
      "cell_type": "markdown",
      "id": "98c3b56f",
      "metadata": {
       "papermill": {
        "duration": 0.013911,
        "end_time": "2024-04-07T20:01:55.543267",
        "exception": false,
        "start_time": "2024-04-07T20:01:55.529356",
        "status": "completed"
       },
       "tags": []
      },
      "source": [
       "💡 The majority of the population are in the age range from 30-35"
      ]
     },
     {
      "cell_type": "code",
      "execution_count": 11,
      "id": "72fe3802",
      "metadata": {
       "execution": {
        "iopub.execute_input": "2024-04-07T20:01:55.571747Z",
        "iopub.status.busy": "2024-04-07T20:01:55.571322Z",
        "iopub.status.idle": "2024-04-07T20:01:56.117230Z",
        "shell.execute_reply": "2024-04-07T20:01:56.116109Z"
       },
       "papermill": {
        "duration": 0.562762,
        "end_time": "2024-04-07T20:01:56.119544",
        "exception": false,
        "start_time": "2024-04-07T20:01:55.556782",
        "status": "completed"
       },
       "tags": []
      },
      "outputs": [
       {
        "data": {
         "image/png": "[encoded data removed]",
         "text/plain": [
          "<Figure size 1000x600 with 1 Axes>"
         ]
        },
        "metadata": {},
        "output_type": "display_data"
       }
      ],
      "source": [
       "sns.set_style(\"darkgrid\")\n",
       "sns.set_palette(\"Set2\")\n",
       "\n",
       "plt.figure(figsize=(10, 6))\n",
       "\n",
       "sns.histplot(train_data['Spending Score (1-100)'], kde=True, alpha=0.6, linewidth=1.5, edgecolor='black')\n",
       "\n",
       "plt.xlabel('Spending Score', fontsize=14, fontweight='bold', color='black')\n",
       "plt.ylabel('Frequency', fontsize=14, fontweight='bold', color='black')\n",
       "\n",
       "plt.xticks(fontsize=12, color='black')\n",
       "plt.yticks(fontsize=12, color='black')\n",
       "plt.xlim(-20, 110)\n",
       "plt.ylim(0, 60)\n",
       "plt.tight_layout()\n",
       "plt.show()"
      ]
     },
     {
      "cell_type": "markdown",
      "id": "146fa911",
      "metadata": {
       "papermill": {
        "duration": 0.013832,
        "end_time": "2024-04-07T20:01:56.147609",
        "exception": false,
        "start_time": "2024-04-07T20:01:56.133777",
        "status": "completed"
       },
       "tags": []
      },
      "source": [
       "💡 Spending score is at peak at 40-60"
      ]
     },
     {
      "cell_type": "markdown",
      "id": "afc37c92",
      "metadata": {
       "papermill": {
        "duration": 0.013737,
        "end_time": "2024-04-07T20:01:56.175477",
        "exception": false,
        "start_time": "2024-04-07T20:01:56.161740",
        "status": "completed"
       },
       "tags": []
      },
      "source": [
       "# Pre-processing"
      ]
     },
     {
      "cell_type": "markdown",
      "id": "21803f56",
      "metadata": {
       "papermill": {
        "duration": 0.013976,
        "end_time": "2024-04-07T20:01:56.203814",
        "exception": false,
        "start_time": "2024-04-07T20:01:56.189838",
        "status": "completed"
       },
       "tags": []
      },
      "source": [
       "**Encoding** categorical features"
      ]
     },
     {
      "cell_type": "code",
      "execution_count": 12,
      "id": "42136010",
      "metadata": {
       "execution": {
        "iopub.execute_input": "2024-04-07T20:01:56.235321Z",
        "iopub.status.busy": "2024-04-07T20:01:56.234914Z",
        "iopub.status.idle": "2024-04-07T20:01:56.241212Z",
        "shell.execute_reply": "2024-04-07T20:01:56.240175Z"
       },
       "papermill": {
        "duration": 0.024593,
        "end_time": "2024-04-07T20:01:56.243332",
        "exception": false,
        "start_time": "2024-04-07T20:01:56.218739",
        "status": "completed"
       },
       "tags": []
      },
      "outputs": [],
      "source": [
       "label_encoder = LabelEncoder()\n",
       "train_data['Gender'] = label_encoder.fit_transform(train_data['Gender'])"
      ]
     },
     {
      "cell_type": "markdown",
      "id": "85865af2",
      "metadata": {
       "papermill": {
        "duration": 0.018016,
        "end_time": "2024-04-07T20:01:56.276747",
        "exception": false,
        "start_time": "2024-04-07T20:01:56.258731",
        "status": "completed"
       },
       "tags": []
      },
      "source": [
       "**Scaling** numeric features"
      ]
     },
     {
      "cell_type": "code",
      "execution_count": 13,
      "id": "7740d877",
      "metadata": {
       "execution": {
        "iopub.execute_input": "2024-04-07T20:01:56.315322Z",
        "iopub.status.busy": "2024-04-07T20:01:56.314817Z",
        "iopub.status.idle": "2024-04-07T20:01:56.325105Z",
        "shell.execute_reply": "2024-04-07T20:01:56.324088Z"
       },
       "papermill": {
        "duration": 0.029583,
        "end_time": "2024-04-07T20:01:56.327306",
        "exception": false,
        "start_time": "2024-04-07T20:01:56.297723",
        "status": "completed"
       },
       "tags": []
      },
      "outputs": [],
      "source": [
       "scaler = StandardScaler()\n",
       "scaled_data = scaler.fit_transform(train_data)"
      ]
     },
     {
      "cell_type": "markdown",
      "id": "f3d05443",
      "metadata": {
       "papermill": {
        "duration": 0.018087,
        "end_time": "2024-04-07T20:01:56.364445",
        "exception": false,
        "start_time": "2024-04-07T20:01:56.346358",
        "status": "completed"
       },
       "tags": []
      },
      "source": [
       "# Clustering"
      ]
     },
     {
      "cell_type": "markdown",
      "id": "236e3ba9",
      "metadata": {
       "papermill": {
        "duration": 0.014793,
        "end_time": "2024-04-07T20:01:56.394053",
        "exception": false,
        "start_time": "2024-04-07T20:01:56.379260",
        "status": "completed"
       },
       "tags": []
      },
      "source": [
       "## K-means"
      ]
     },
     {
      "cell_type": "markdown",
      "id": "c7867363",
      "metadata": {
       "papermill": {
        "duration": 0.013923,
        "end_time": "2024-04-07T20:01:56.422804",
        "exception": false,
        "start_time": "2024-04-07T20:01:56.408881",
        "status": "completed"
       },
       "tags": []
      },
      "source": [
       "Searching for the best number of clusters, I will run k=3, k=4... **to k = 21** and **compare the results using SSE, WCSS and DB**.\n",
       "\n",
       "**Sum of Squared Errors (SSE):** represents the sum of the squared distances between each data point and its assigned cluster centroid\n",
       "\n",
       "**Within-Cluster Sum of Squares (WCSS):** represents the sum of squared distances of each data point within its assigned cluster\n",
       "\n",
       "**Davies Bouldin (DB):** a measure of\n",
       " uniqueness of the clusters and takes into consideration both **cohesiveness** of\n",
       " the cluster (distance between the data points and center of the cluster) **and\n",
       " separation between the clusters**."
      ]
     },
     {
      "cell_type": "code",
      "execution_count": 14,
      "id": "5c70823e",
      "metadata": {
       "_kg_hide-input": true,
       "_kg_hide-output": true,
       "execution": {
        "iopub.execute_input": "2024-04-07T20:01:56.457149Z",
        "iopub.status.busy": "2024-04-07T20:01:56.456159Z",
        "iopub.status.idle": "2024-04-07T20:01:57.987734Z",
        "shell.execute_reply": "2024-04-07T20:01:57.986300Z"
       },
       "papermill": {
        "duration": 1.55283,
        "end_time": "2024-04-07T20:01:57.990177",
        "exception": false,
        "start_time": "2024-04-07T20:01:56.437347",
        "status": "completed"
       },
       "tags": []
      },
      "outputs": [
       {
        "name": "stdout",
        "output_type": "stream",
        "text": [
         "K-Means Clustering Result 1:\n",
         "KMeans_Cluster\n",
         "0    85\n",
         "1    66\n",
         "2    49\n",
         "Name: count, dtype: int64\n",
         "\n",
         "K-Means Clustering Result 2:\n",
         "KMeans_Cluster\n",
         "1    57\n",
         "2    55\n",
         "0    48\n",
         "3    40\n",
         "Name: count, dtype: int64\n",
         "\n",
         "K-Means Clustering Result 3:\n",
         "KMeans_Cluster\n",
         "0    55\n",
         "2    43\n",
         "1    40\n",
         "3    31\n",
         "4    31\n",
         "Name: count, dtype: int64\n",
         "\n",
         "K-Means Clustering Result 4:\n",
         "KMeans_Cluster\n",
         "3    41\n",
         "4    38\n",
         "1    37\n",
         "2    35\n",
         "0    26\n",
         "5    23\n",
         "Name: count, dtype: int64\n",
         "\n",
         "K-Means Clustering Result 5:\n",
         "KMeans_Cluster\n",
         "6    40\n",
         "2    37\n",
         "0    33\n",
         "4    26\n",
         "3    24\n",
         "1    22\n",
         "5    18\n",
         "Name: count, dtype: int64\n",
         "\n",
         "K-Means Clustering Result 6:\n",
         "KMeans_Cluster\n",
         "5    36\n",
         "6    34\n",
         "0    27\n",
         "2    24\n",
         "1    22\n",
         "3    20\n",
         "4    19\n",
         "7    18\n",
         "Name: count, dtype: int64\n",
         "\n",
         "K-Means Clustering Result 7:\n",
         "KMeans_Cluster\n",
         "5    33\n",
         "1    30\n",
         "2    26\n",
         "4    25\n",
         "8    21\n",
         "6    19\n",
         "7    18\n",
         "0    15\n",
         "3    13\n",
         "Name: count, dtype: int64\n",
         "\n",
         "K-Means Clustering Result 8:\n",
         "KMeans_Cluster\n",
         "2    26\n",
         "3    26\n",
         "7    24\n",
         "4    24\n",
         "1    21\n",
         "0    19\n",
         "6    18\n",
         "9    14\n",
         "5    14\n",
         "8    14\n",
         "Name: count, dtype: int64\n",
         "\n",
         "K-Means Clustering Result 9:\n",
         "KMeans_Cluster\n",
         "1     25\n",
         "2     25\n",
         "7     24\n",
         "6     21\n",
         "3     20\n",
         "4     19\n",
         "0     18\n",
         "9     15\n",
         "10    13\n",
         "5     13\n",
         "8      7\n",
         "Name: count, dtype: int64\n",
         "\n",
         "K-Means Clustering Result 10:\n",
         "KMeans_Cluster\n",
         "1     25\n",
         "4     25\n",
         "3     22\n",
         "6     21\n",
         "2     18\n",
         "0     18\n",
         "8     15\n",
         "11    13\n",
         "7     13\n",
         "5     13\n",
         "9     10\n",
         "10     7\n",
         "Name: count, dtype: int64\n",
         "\n",
         "K-Means Clustering Result 11:\n",
         "KMeans_Cluster\n",
         "5     26\n",
         "3     24\n",
         "1     21\n",
         "4     20\n",
         "0     18\n",
         "8     16\n",
         "6     14\n",
         "9     14\n",
         "11    13\n",
         "2     13\n",
         "12    10\n",
         "10     9\n",
         "7      2\n",
         "Name: count, dtype: int64\n",
         "\n",
         "K-Means Clustering Result 12:\n",
         "KMeans_Cluster\n",
         "9     26\n",
         "2     25\n",
         "0     21\n",
         "3     18\n",
         "7     14\n",
         "5     13\n",
         "11    13\n",
         "10    12\n",
         "13    12\n",
         "1     11\n",
         "4     10\n",
         "6     10\n",
         "8      9\n",
         "12     6\n",
         "Name: count, dtype: int64\n",
         "\n",
         "K-Means Clustering Result 13:\n",
         "KMeans_Cluster\n",
         "9     21\n",
         "3     21\n",
         "4     20\n",
         "2     18\n",
         "14    14\n",
         "0     13\n",
         "5     13\n",
         "13    13\n",
         "8     12\n",
         "12    11\n",
         "1     11\n",
         "10    10\n",
         "6      9\n",
         "7      8\n",
         "11     6\n",
         "Name: count, dtype: int64\n",
         "\n",
         "K-Means Clustering Result 14:\n",
         "KMeans_Cluster\n",
         "3     22\n",
         "1     21\n",
         "5     19\n",
         "8     16\n",
         "9     15\n",
         "6     14\n",
         "11    13\n",
         "0     12\n",
         "2     11\n",
         "13    11\n",
         "4     11\n",
         "12    10\n",
         "15     9\n",
         "14     8\n",
         "10     6\n",
         "7      2\n",
         "Name: count, dtype: int64\n",
         "\n",
         "K-Means Clustering Result 15:\n",
         "KMeans_Cluster\n",
         "3     22\n",
         "1     21\n",
         "5     19\n",
         "8     16\n",
         "9     15\n",
         "6     14\n",
         "4     13\n",
         "11    13\n",
         "0     12\n",
         "13    11\n",
         "2     11\n",
         "12    10\n",
         "14     8\n",
         "10     6\n",
         "15     5\n",
         "16     2\n",
         "7      2\n",
         "Name: count, dtype: int64\n",
         "\n",
         "K-Means Clustering Result 16:\n",
         "KMeans_Cluster\n",
         "3     22\n",
         "1     21\n",
         "5     19\n",
         "8     16\n",
         "6     14\n",
         "4     13\n",
         "11    13\n",
         "0     12\n",
         "2     11\n",
         "13    11\n",
         "12    10\n",
         "9      9\n",
         "14     8\n",
         "10     6\n",
         "17     6\n",
         "15     5\n",
         "16     2\n",
         "7      2\n",
         "Name: count, dtype: int64\n",
         "\n",
         "K-Means Clustering Result 17:\n",
         "KMeans_Cluster\n",
         "6     21\n",
         "1     21\n",
         "12    20\n",
         "8     16\n",
         "7     14\n",
         "10    13\n",
         "9     12\n",
         "18    12\n",
         "4     12\n",
         "15    10\n",
         "3     10\n",
         "0      8\n",
         "5      8\n",
         "14     7\n",
         "13     5\n",
         "11     4\n",
         "2      3\n",
         "16     2\n",
         "17     2\n",
         "Name: count, dtype: int64\n",
         "\n",
         "K-Means Clustering Result 18:\n",
         "KMeans_Cluster\n",
         "1     21\n",
         "18    19\n",
         "11    15\n",
         "0     13\n",
         "5     13\n",
         "17    13\n",
         "10    12\n",
         "4     11\n",
         "12    10\n",
         "9     10\n",
         "6     10\n",
         "3      9\n",
         "2      8\n",
         "13     7\n",
         "16     7\n",
         "19     6\n",
         "7      6\n",
         "14     5\n",
         "8      3\n",
         "15     2\n",
         "Name: count, dtype: int64\n",
         "\n"
        ]
       }
      ],
      "source": [
       "# Initialize K-Means with different parameter values for k=3 to k=20\n",
       "kmeans_params = [{'n_clusters': k, 'random_state': 42} for k in range(3, 21)]\n",
       "\n",
       "# Perform K-Means clustering with different parameter values\n",
       "kmeans_results = []\n",
       "for params in kmeans_params:\n",
       "    kmeans = KMeans(**params)\n",
       "    train_data['KMeans_Cluster'] = kmeans.fit_predict(scaled_data)\n",
       "    kmeans_results.append(train_data['KMeans_Cluster'].value_counts())\n",
       "\n",
       "# Print and visualize the results\n",
       "for i, result in enumerate(kmeans_results):\n",
       "    print(f\"K-Means Clustering Result {i+1}:\\n{result}\\n\")"
      ]
     },
     {
      "cell_type": "markdown",
      "id": "8652d590",
      "metadata": {
       "papermill": {
        "duration": 0.014779,
        "end_time": "2024-04-07T20:01:58.020498",
        "exception": false,
        "start_time": "2024-04-07T20:01:58.005719",
        "status": "completed"
       },
       "tags": []
      },
      "source": [
       "# Evaluation"
      ]
     },
     {
      "cell_type": "code",
      "execution_count": 15,
      "id": "914e54fe",
      "metadata": {
       "_kg_hide-input": true,
       "execution": {
        "iopub.execute_input": "2024-04-07T20:01:58.052074Z",
        "iopub.status.busy": "2024-04-07T20:01:58.051690Z",
        "iopub.status.idle": "2024-04-07T20:01:59.537989Z",
        "shell.execute_reply": "2024-04-07T20:01:59.536937Z"
       },
       "papermill": {
        "duration": 1.504809,
        "end_time": "2024-04-07T20:01:59.540310",
        "exception": false,
        "start_time": "2024-04-07T20:01:58.035501",
        "status": "completed"
       },
       "tags": []
      },
      "outputs": [
       {
        "name": "stdout",
        "output_type": "stream",
        "text": [
         "Skipping k=1 due to insufficient unique labels.\n"
        ]
       },
       {
        "data": {
         "text/html": [
          "        <script type=\"text/javascript\">\n",
          "        window.PlotlyConfig = {MathJaxConfig: 'local'};\n",
          "        if (window.MathJax && window.MathJax.Hub && window.MathJax.Hub.Config) {window.MathJax.Hub.Config({SVG: {font: \"STIX-Web\"}});}\n",
          "        if (typeof require !== 'undefined') {\n",
          "        require.undef(\"plotly\");\n",
          "        requirejs.config({\n",
          "            paths: {\n",
          "                'plotly': ['https://cdn.plot.ly/plotly-2.27.0.min']\n",
          "            }\n",
          "        });\n",
          "        require(['plotly'], function(Plotly) {\n",
          "            window._Plotly = Plotly;\n",
          "        });\n",
          "        }\n",
          "        </script>\n",
          "        "
         ]
        },
        "metadata": {},
        "output_type": "display_data"
       },
       {
        "data": {
         "text/html": [
          "<div>                            <div id=\"167e15dc-0f9e-48e5-99b8-5d707de50222\" class=\"plotly-graph-div\" style=\"height:1300px; width:1200px;\"></div>            <script type=\"text/javascript\">                require([\"plotly\"], function(Plotly) {                    window.PLOTLYENV=window.PLOTLYENV || {};                                    if (document.getElementById(\"167e15dc-0f9e-48e5-99b8-5d707de50222\")) {                    Plotly.newPlot(                        \"167e15dc-0f9e-48e5-99b8-5d707de50222\",                        [{\"mode\":\"lines+markers\",\"name\":\"WCSS\",\"x\":[1,2,3,4,5,6,7,8,9,10,11,12,13,14,15,16,17,18,19,20],\"y\":[316356.68000000005,220317.70332480822,150275.90485829956,111298.96363022941,82174.8124933667,64807.666451676974,57475.22457133509,50262.53920423315,45717.17102086132,41916.77418216259,38624.06278107126,36352.371453563916,33074.54107624831,31326.015436507936,29610.474800784017,28951.935668828937,26938.232697127438,25819.096088852668,24362.048186589658,23436.01508140982],\"type\":\"scatter\",\"xaxis\":\"x\",\"yaxis\":\"y\"},{\"mode\":\"lines+markers\",\"name\":\"SSE\",\"x\":[1,2,3,4,5,6,7,8,9,10,11,12,13,14,15,16,17,18,19,20],\"y\":[36.35260394488472,30.889292535419155,24.9308338270277,21.458322836052417,18.817175630863133,16.557488552464882,15.770650683108384,14.929624529092516,14.06025665865074,13.43533012683182,12.934333945851126,12.609790135323463,11.98875029473947,11.701590821969464,11.354110542874599,11.270836323509364,10.917969876800196,10.667320041435739,10.477381888836053,10.180918726846702],\"type\":\"scatter\",\"xaxis\":\"x2\",\"yaxis\":\"y2\"},{\"mode\":\"lines+markers\",\"name\":\"DB Index\",\"x\":[1,2,3,4,5,6,7,8,9,10,11,12,13,14,15,16,17,18,19],\"y\":[1.3903457373831665,0.9086412705114908,0.9341573285469599,0.8685027964658427,0.8140706542098807,0.8715819390073806,0.905800915960405,0.9875407708381709,0.9609816030718136,0.9684305848271866,0.9394692895452388,0.9781033341634422,0.9363710559490741,1.0087450898942492,0.9546053186814397,1.0314151443800939,1.0385570018117845,0.9905214720403623,1.0156184172290579],\"type\":\"scatter\",\"xaxis\":\"x3\",\"yaxis\":\"y3\"}],                        {\"template\":{\"data\":{\"histogram2dcontour\":[{\"type\":\"histogram2dcontour\",\"colorbar\":{\"outlinewidth\":0,\"ticks\":\"\"},\"colorscale\":[[0.0,\"#0d0887\"],[0.1111111111111111,\"#46039f\"],[0.2222222222222222,\"#7201a8\"],[0.3333333333333333,\"#9c179e\"],[0.4444444444444444,\"#bd3786\"],[0.5555555555555556,\"#d8576b\"],[0.6666666666666666,\"#ed7953\"],[0.7777777777777778,\"#fb9f3a\"],[0.8888888888888888,\"#fdca26\"],[1.0,\"#f0f921\"]]}],\"choropleth\":[{\"type\":\"choropleth\",\"colorbar\":{\"outlinewidth\":0,\"ticks\":\"\"}}],\"histogram2d\":[{\"type\":\"histogram2d\",\"colorbar\":{\"outlinewidth\":0,\"ticks\":\"\"},\"colorscale\":[[0.0,\"#0d0887\"],[0.1111111111111111,\"#46039f\"],[0.2222222222222222,\"#7201a8\"],[0.3333333333333333,\"#9c179e\"],[0.4444444444444444,\"#bd3786\"],[0.5555555555555556,\"#d8576b\"],[0.6666666666666666,\"#ed7953\"],[0.7777777777777778,\"#fb9f3a\"],[0.8888888888888888,\"#fdca26\"],[1.0,\"#f0f921\"]]}],\"heatmap\":[{\"type\":\"heatmap\",\"colorbar\":{\"outlinewidth\":0,\"ticks\":\"\"},\"colorscale\":[[0.0,\"#0d0887\"],[0.1111111111111111,\"#46039f\"],[0.2222222222222222,\"#7201a8\"],[0.3333333333333333,\"#9c179e\"],[0.4444444444444444,\"#bd3786\"],[0.5555555555555556,\"#d8576b\"],[0.6666666666666666,\"#ed7953\"],[0.7777777777777778,\"#fb9f3a\"],[0.8888888888888888,\"#fdca26\"],[1.0,\"#f0f921\"]]}],\"heatmapgl\":[{\"type\":\"heatmapgl\",\"colorbar\":{\"outlinewidth\":0,\"ticks\":\"\"},\"colorscale\":[[0.0,\"#0d0887\"],[0.1111111111111111,\"#46039f\"],[0.2222222222222222,\"#7201a8\"],[0.3333333333333333,\"#9c179e\"],[0.4444444444444444,\"#bd3786\"],[0.5555555555555556,\"#d8576b\"],[0.6666666666666666,\"#ed7953\"],[0.7777777777777778,\"#fb9f3a\"],[0.8888888888888888,\"#fdca26\"],[1.0,\"#f0f921\"]]}],\"contourcarpet\":[{\"type\":\"contourcarpet\",\"colorbar\":{\"outlinewidth\":0,\"ticks\":\"\"}}],\"contour\":[{\"type\":\"contour\",\"colorbar\":{\"outlinewidth\":0,\"ticks\":\"\"},\"colorscale\":[[0.0,\"#0d0887\"],[0.1111111111111111,\"#46039f\"],[0.2222222222222222,\"#7201a8\"],[0.3333333333333333,\"#9c179e\"],[0.4444444444444444,\"#bd3786\"],[0.5555555555555556,\"#d8576b\"],[0.6666666666666666,\"#ed7953\"],[0.7777777777777778,\"#fb9f3a\"],[0.8888888888888888,\"#fdca26\"],[1.0,\"#f0f921\"]]}],\"surface\":[{\"type\":\"surface\",\"colorbar\":{\"outlinewidth\":0,\"ticks\":\"\"},\"colorscale\":[[0.0,\"#0d0887\"],[0.1111111111111111,\"#46039f\"],[0.2222222222222222,\"#7201a8\"],[0.3333333333333333,\"#9c179e\"],[0.4444444444444444,\"#bd3786\"],[0.5555555555555556,\"#d8576b\"],[0.6666666666666666,\"#ed7953\"],[0.7777777777777778,\"#fb9f3a\"],[0.8888888888888888,\"#fdca26\"],[1.0,\"#f0f921\"]]}],\"mesh3d\":[{\"type\":\"mesh3d\",\"colorbar\":{\"outlinewidth\":0,\"ticks\":\"\"}}],\"scatter\":[{\"fillpattern\":{\"fillmode\":\"overlay\",\"size\":10,\"solidity\":0.2},\"type\":\"scatter\"}],\"parcoords\":[{\"type\":\"parcoords\",\"line\":{\"colorbar\":{\"outlinewidth\":0,\"ticks\":\"\"}}}],\"scatterpolargl\":[{\"type\":\"scatterpolargl\",\"marker\":{\"colorbar\":{\"outlinewidth\":0,\"ticks\":\"\"}}}],\"bar\":[{\"error_x\":{\"color\":\"#2a3f5f\"},\"error_y\":{\"color\":\"#2a3f5f\"},\"marker\":{\"line\":{\"color\":\"#E5ECF6\",\"width\":0.5},\"pattern\":{\"fillmode\":\"overlay\",\"size\":10,\"solidity\":0.2}},\"type\":\"bar\"}],\"scattergeo\":[{\"type\":\"scattergeo\",\"marker\":{\"colorbar\":{\"outlinewidth\":0,\"ticks\":\"\"}}}],\"scatterpolar\":[{\"type\":\"scatterpolar\",\"marker\":{\"colorbar\":{\"outlinewidth\":0,\"ticks\":\"\"}}}],\"histogram\":[{\"marker\":{\"pattern\":{\"fillmode\":\"overlay\",\"size\":10,\"solidity\":0.2}},\"type\":\"histogram\"}],\"scattergl\":[{\"type\":\"scattergl\",\"marker\":{\"colorbar\":{\"outlinewidth\":0,\"ticks\":\"\"}}}],\"scatter3d\":[{\"type\":\"scatter3d\",\"line\":{\"colorbar\":{\"outlinewidth\":0,\"ticks\":\"\"}},\"marker\":{\"colorbar\":{\"outlinewidth\":0,\"ticks\":\"\"}}}],\"scattermapbox\":[{\"type\":\"scattermapbox\",\"marker\":{\"colorbar\":{\"outlinewidth\":0,\"ticks\":\"\"}}}],\"scatterternary\":[{\"type\":\"scatterternary\",\"marker\":{\"colorbar\":{\"outlinewidth\":0,\"ticks\":\"\"}}}],\"scattercarpet\":[{\"type\":\"scattercarpet\",\"marker\":{\"colorbar\":{\"outlinewidth\":0,\"ticks\":\"\"}}}],\"carpet\":[{\"aaxis\":{\"endlinecolor\":\"#2a3f5f\",\"gridcolor\":\"white\",\"linecolor\":\"white\",\"minorgridcolor\":\"white\",\"startlinecolor\":\"#2a3f5f\"},\"baxis\":{\"endlinecolor\":\"#2a3f5f\",\"gridcolor\":\"white\",\"linecolor\":\"white\",\"minorgridcolor\":\"white\",\"startlinecolor\":\"#2a3f5f\"},\"type\":\"carpet\"}],\"table\":[{\"cells\":{\"fill\":{\"color\":\"#EBF0F8\"},\"line\":{\"color\":\"white\"}},\"header\":{\"fill\":{\"color\":\"#C8D4E3\"},\"line\":{\"color\":\"white\"}},\"type\":\"table\"}],\"barpolar\":[{\"marker\":{\"line\":{\"color\":\"#E5ECF6\",\"width\":0.5},\"pattern\":{\"fillmode\":\"overlay\",\"size\":10,\"solidity\":0.2}},\"type\":\"barpolar\"}],\"pie\":[{\"automargin\":true,\"type\":\"pie\"}]},\"layout\":{\"autotypenumbers\":\"strict\",\"colorway\":[\"#636efa\",\"#EF553B\",\"#00cc96\",\"#ab63fa\",\"#FFA15A\",\"#19d3f3\",\"#FF6692\",\"#B6E880\",\"#FF97FF\",\"#FECB52\"],\"font\":{\"color\":\"#2a3f5f\"},\"hovermode\":\"closest\",\"hoverlabel\":{\"align\":\"left\"},\"paper_bgcolor\":\"white\",\"plot_bgcolor\":\"#E5ECF6\",\"polar\":{\"bgcolor\":\"#E5ECF6\",\"angularaxis\":{\"gridcolor\":\"white\",\"linecolor\":\"white\",\"ticks\":\"\"},\"radialaxis\":{\"gridcolor\":\"white\",\"linecolor\":\"white\",\"ticks\":\"\"}},\"ternary\":{\"bgcolor\":\"#E5ECF6\",\"aaxis\":{\"gridcolor\":\"white\",\"linecolor\":\"white\",\"ticks\":\"\"},\"baxis\":{\"gridcolor\":\"white\",\"linecolor\":\"white\",\"ticks\":\"\"},\"caxis\":{\"gridcolor\":\"white\",\"linecolor\":\"white\",\"ticks\":\"\"}},\"coloraxis\":{\"colorbar\":{\"outlinewidth\":0,\"ticks\":\"\"}},\"colorscale\":{\"sequential\":[[0.0,\"#0d0887\"],[0.1111111111111111,\"#46039f\"],[0.2222222222222222,\"#7201a8\"],[0.3333333333333333,\"#9c179e\"],[0.4444444444444444,\"#bd3786\"],[0.5555555555555556,\"#d8576b\"],[0.6666666666666666,\"#ed7953\"],[0.7777777777777778,\"#fb9f3a\"],[0.8888888888888888,\"#fdca26\"],[1.0,\"#f0f921\"]],\"sequentialminus\":[[0.0,\"#0d0887\"],[0.1111111111111111,\"#46039f\"],[0.2222222222222222,\"#7201a8\"],[0.3333333333333333,\"#9c179e\"],[0.4444444444444444,\"#bd3786\"],[0.5555555555555556,\"#d8576b\"],[0.6666666666666666,\"#ed7953\"],[0.7777777777777778,\"#fb9f3a\"],[0.8888888888888888,\"#fdca26\"],[1.0,\"#f0f921\"]],\"diverging\":[[0,\"#8e0152\"],[0.1,\"#c51b7d\"],[0.2,\"#de77ae\"],[0.3,\"#f1b6da\"],[0.4,\"#fde0ef\"],[0.5,\"#f7f7f7\"],[0.6,\"#e6f5d0\"],[0.7,\"#b8e186\"],[0.8,\"#7fbc41\"],[0.9,\"#4d9221\"],[1,\"#276419\"]]},\"xaxis\":{\"gridcolor\":\"white\",\"linecolor\":\"white\",\"ticks\":\"\",\"title\":{\"standoff\":15},\"zerolinecolor\":\"white\",\"automargin\":true,\"zerolinewidth\":2},\"yaxis\":{\"gridcolor\":\"white\",\"linecolor\":\"white\",\"ticks\":\"\",\"title\":{\"standoff\":15},\"zerolinecolor\":\"white\",\"automargin\":true,\"zerolinewidth\":2},\"scene\":{\"xaxis\":{\"backgroundcolor\":\"#E5ECF6\",\"gridcolor\":\"white\",\"linecolor\":\"white\",\"showbackground\":true,\"ticks\":\"\",\"zerolinecolor\":\"white\",\"gridwidth\":2},\"yaxis\":{\"backgroundcolor\":\"#E5ECF6\",\"gridcolor\":\"white\",\"linecolor\":\"white\",\"showbackground\":true,\"ticks\":\"\",\"zerolinecolor\":\"white\",\"gridwidth\":2},\"zaxis\":{\"backgroundcolor\":\"#E5ECF6\",\"gridcolor\":\"white\",\"linecolor\":\"white\",\"showbackground\":true,\"ticks\":\"\",\"zerolinecolor\":\"white\",\"gridwidth\":2}},\"shapedefaults\":{\"line\":{\"color\":\"#2a3f5f\"}},\"annotationdefaults\":{\"arrowcolor\":\"#2a3f5f\",\"arrowhead\":0,\"arrowwidth\":1},\"geo\":{\"bgcolor\":\"white\",\"landcolor\":\"#E5ECF6\",\"subunitcolor\":\"white\",\"showland\":true,\"showlakes\":true,\"lakecolor\":\"white\"},\"title\":{\"x\":0.05},\"mapbox\":{\"style\":\"light\"}}},\"xaxis\":{\"anchor\":\"y\",\"domain\":[0.0,1.0]},\"yaxis\":{\"anchor\":\"x\",\"domain\":[0.7777777777777778,1.0]},\"xaxis2\":{\"anchor\":\"y2\",\"domain\":[0.0,1.0]},\"yaxis2\":{\"anchor\":\"x2\",\"domain\":[0.3888888888888889,0.6111111111111112]},\"xaxis3\":{\"anchor\":\"y3\",\"domain\":[0.0,1.0]},\"yaxis3\":{\"anchor\":\"x3\",\"domain\":[0.0,0.22222222222222224]},\"annotations\":[{\"font\":{\"size\":16},\"showarrow\":false,\"text\":\"WCSS\",\"x\":0.5,\"xanchor\":\"center\",\"xref\":\"paper\",\"y\":1.0,\"yanchor\":\"bottom\",\"yref\":\"paper\"},{\"font\":{\"size\":16},\"showarrow\":false,\"text\":\"SSE\",\"x\":0.5,\"xanchor\":\"center\",\"xref\":\"paper\",\"y\":0.6111111111111112,\"yanchor\":\"bottom\",\"yref\":\"paper\"},{\"font\":{\"size\":16},\"showarrow\":false,\"text\":\"DB Index\",\"x\":0.5,\"xanchor\":\"center\",\"xref\":\"paper\",\"y\":0.22222222222222224,\"yanchor\":\"bottom\",\"yref\":\"paper\"}],\"title\":{\"text\":\"Elbow Plots for K-Means Clustering\"},\"height\":1300,\"width\":1200,\"scene\":{\"xaxis\":{\"title\":{\"text\":\"Number of Clusters (k)\"}},\"yaxis\":{\"title\":{\"text\":\"Metric Value\"}},\"zaxis\":{\"title\":{\"text\":\"Metric Value\"}}}},                        {\"responsive\": true}                    ).then(function(){\n",
          "                            \n",
          "var gd = document.getElementById('167e15dc-0f9e-48e5-99b8-5d707de50222');\n",
          "var x = new MutationObserver(function (mutations, observer) {{\n",
          "        var display = window.getComputedStyle(gd).display;\n",
          "        if (!display || display === 'none') {{\n",
          "            console.log([gd, 'removed!']);\n",
          "            Plotly.purge(gd);\n",
          "            observer.disconnect();\n",
          "        }}\n",
          "}});\n",
          "\n",
          "// Listen for the removal of the full notebook cells\n",
          "var notebookContainer = gd.closest('#notebook-container');\n",
          "if (notebookContainer) {{\n",
          "    x.observe(notebookContainer, {childList: true});\n",
          "}}\n",
          "\n",
          "// Listen for the clearing of the current output cell\n",
          "var outputEl = gd.closest('.output');\n",
          "if (outputEl) {{\n",
          "    x.observe(outputEl, {childList: true});\n",
          "}}\n",
          "\n",
          "                        })                };                });            </script>        </div>"
         ]
        },
        "metadata": {},
        "output_type": "display_data"
       }
      ],
      "source": [
       "import plotly.graph_objs as go\n",
       "import plotly.subplots as ps\n",
       "from sklearn.metrics import davies_bouldin_score\n",
       "from scipy.spatial.distance import cdist\n",
       "\n",
       "k_values = list(range(1, 21))  # Convert range to list\n",
       "\n",
       "# Initialize empty lists to store WCSS, SSE, and DB index values for each k\n",
       "wcss_values = []\n",
       "sse_values = []\n",
       "db_values = []\n",
       "\n",
       "# Iterate over each k value and perform K-Means clustering\n",
       "for k in k_values:\n",
       "    kmeans = KMeans(n_clusters=k, random_state=42)\n",
       "    kmeans.fit(train_data)\n",
       "    labels = kmeans.labels_\n",
       "    \n",
       "    # Calculate WCSS\n",
       "    wcss_values.append(kmeans.inertia_)\n",
       "    \n",
       "    # Calculate SSE\n",
       "    sse = sum(np.min(cdist(train_data, kmeans.cluster_centers_, 'euclidean'), axis=1)) / train_data.shape[0]\n",
       "    sse_values.append(sse)\n",
       "    \n",
       "    # Check if there are at least two unique labels for DB index calculation\n",
       "    if len(set(labels)) < 2:\n",
       "        print(f\"Skipping k={k} due to insufficient unique labels.\")\n",
       "        continue\n",
       "    \n",
       "    # Calculate DB index\n",
       "    db_index = davies_bouldin_score(train_data, labels)\n",
       "    db_values.append(db_index)\n",
       "\n",
       "# Create three 3D scatter plots\n",
       "fig = ps.make_subplots(rows=3, cols=1, subplot_titles=(\"WCSS\", \"SSE\", \"DB Index\"))\n",
       "\n",
       "# Add traces for WCSS, SSE, and DB index\n",
       "fig.add_trace(go.Scatter(x=k_values, y=wcss_values, mode='lines+markers', name='WCSS'), row=1, col=1)\n",
       "fig.add_trace(go.Scatter(x=k_values, y=sse_values, mode='lines+markers', name='SSE'), row=2, col=1)\n",
       "fig.add_trace(go.Scatter(x=k_values[:len(db_values)], y=db_values, mode='lines+markers', name='DB Index'), row=3, col=1)\n",
       "\n",
       "# Update layout\n",
       "fig.update_layout(height=1300, width=1200, title_text=\"Elbow Plots for K-Means Clustering\",\n",
       "                  scene=dict(xaxis_title='Number of Clusters (k)', yaxis_title='Metric Value', zaxis_title='Metric Value'))\n",
       "\n",
       "# Show the plot\n",
       "fig.show()\n"
      ]
     },
     {
      "cell_type": "markdown",
      "id": "84839dd8",
      "metadata": {
       "papermill": {
        "duration": 0.014811,
        "end_time": "2024-04-07T20:01:59.570659",
        "exception": false,
        "start_time": "2024-04-07T20:01:59.555848",
        "status": "completed"
       },
       "tags": []
      },
      "source": [
       "💡 Looking at DB, WCSS, and SSE, I decided **k = 7** is the best number of clusters for this dataset."
      ]
     },
     {
      "cell_type": "markdown",
      "id": "bc45d3e2",
      "metadata": {
       "papermill": {
        "duration": 0.014944,
        "end_time": "2024-04-07T20:01:59.601133",
        "exception": false,
        "start_time": "2024-04-07T20:01:59.586189",
        "status": "completed"
       },
       "tags": []
      },
      "source": [
       "**Conclusion**\n",
       "\n",
       "Even though k-means clustering is simple and easy to implement, **one of the key drawbacks** is that it seeks to find a **local optimum**, which may not yield globally optimal clustering. In this approach, the algorithm starts with an initial configuration (centroids) and continuously improves to find the best solution possible for that initial configuration. Since the solution is optimal to the initial configuration (locally optimal), there might be a better optimal solution if the initial configuration changes. The locally optimal solution may not be the most optimal solution for the given clustering problem. Hence, the success of a k-means algorithm much depends on the initiation of centroids.\n",
       "\n",
       "**Evaluation** \n",
       "\n",
       "It must be noted that, in clustering, the evaluation is different from regression and classification **(supervised learning)** where labels are predefined. Here **in clustering**, we are trying to find meaningful groups in data, and **there are no labels** or ground truth to check to see the 'accuracy'.\n",
       "The evaluation parameter will have to be developed from the\n",
       " very dataset that is being evaluated. This is called **unsupervised or internal\n",
       " evaluation**. \n",
       "\n",
       "**Interpreting SSE and Davies Bouldin Index:**\n",
       "\n",
       "Good models will have **low SSE within the cluster and low overall SSE among all clusters.** The lower the value of the Davies-Bouldin index, the better the clustering. However, both SSE and the Davies-Bouldin index have the limitation of not guaranteeing better clustering when they have lower scores."
      ]
     },
     {
      "cell_type": "markdown",
      "id": "e7c4c7b1",
      "metadata": {
       "papermill": {
        "duration": 0.015233,
        "end_time": "2024-04-07T20:01:59.631819",
        "exception": false,
        "start_time": "2024-04-07T20:01:59.616586",
        "status": "completed"
       },
       "tags": []
      },
      "source": [
       "# K-Means Clustering with k= 7, 3D scatterplot."
      ]
     },
     {
      "cell_type": "code",
      "execution_count": 16,
      "id": "1063e1df",
      "metadata": {
       "_kg_hide-input": true,
       "execution": {
        "iopub.execute_input": "2024-04-07T20:01:59.664454Z",
        "iopub.status.busy": "2024-04-07T20:01:59.664063Z",
        "iopub.status.idle": "2024-04-07T20:02:00.936693Z",
        "shell.execute_reply": "2024-04-07T20:02:00.935522Z"
       },
       "papermill": {
        "duration": 1.292027,
        "end_time": "2024-04-07T20:02:00.939228",
        "exception": false,
        "start_time": "2024-04-07T20:01:59.647201",
        "status": "completed"
       },
       "tags": []
      },
      "outputs": [
       {
        "data": {
         "text/html": [
          "<div>                            <div id=\"a0543f04-b7b4-45ff-ade7-eb172b0b7302\" class=\"plotly-graph-div\" style=\"height:850px; width:900px;\"></div>            <script type=\"text/javascript\">                require([\"plotly\"], function(Plotly) {                    window.PLOTLYENV=window.PLOTLYENV || {};                                    if (document.getElementById(\"a0543f04-b7b4-45ff-ade7-eb172b0b7302\")) {                    Plotly.newPlot(                        \"a0543f04-b7b4-45ff-ade7-eb172b0b7302\",                        [{\"hovertemplate\":\"Cluster=%{marker.color}\\u003cbr\\u003eAnnual Income (k$)=%{x}\\u003cbr\\u003eSpending Score (1-100)=%{y}\\u003cbr\\u003eAge=%{z}\\u003cextra\\u003e\\u003c\\u002fextra\\u003e\",\"legendgroup\":\"5\",\"marker\":{\"color\":[5,5,5,5,5,5,5,5,5,5,5,5,5,5,5,5,5,5,5,5,5],\"coloraxis\":\"coloraxis\",\"opacity\":0.7,\"symbol\":\"circle\"},\"mode\":\"markers\",\"name\":\"5\",\"scene\":\"scene\",\"showlegend\":true,\"x\":[15,16,17,18,19,19,20,20,21,23,24,25,28,28,29,30,33,33,34,37,39],\"y\":[39,6,40,6,3,14,15,13,35,29,35,5,14,32,31,4,4,14,17,26,28],\"z\":[19,20,31,35,64,67,58,37,35,52,35,46,54,45,40,60,53,49,42,36,49],\"type\":\"scatter3d\"},{\"hovertemplate\":\"Cluster=%{marker.color}\\u003cbr\\u003eAnnual Income (k$)=%{x}\\u003cbr\\u003eSpending Score (1-100)=%{y}\\u003cbr\\u003eAge=%{z}\\u003cextra\\u003e\\u003c\\u002fextra\\u003e\",\"legendgroup\":\"2\",\"marker\":{\"color\":[2,2,2,2,2,2,2,2,2,2,2,2,2,2,2,2,2,2,2,2,2,2],\"coloraxis\":\"coloraxis\",\"opacity\":0.7,\"symbol\":\"circle\"},\"mode\":\"markers\",\"name\":\"2\",\"scene\":\"scene\",\"showlegend\":true,\"x\":[15,16,17,18,19,19,20,20,21,23,24,25,28,28,29,30,33,33,34,37,38,39],\"y\":[81,77,76,94,72,99,77,79,66,98,73,73,82,61,87,73,92,81,73,75,92,65],\"z\":[21,23,22,23,30,35,24,22,20,35,25,31,29,35,23,21,18,21,30,20,24,24],\"type\":\"scatter3d\"},{\"hovertemplate\":\"Cluster=%{marker.color}\\u003cbr\\u003eAnnual Income (k$)=%{x}\\u003cbr\\u003eSpending Score (1-100)=%{y}\\u003cbr\\u003eAge=%{z}\\u003cextra\\u003e\\u003c\\u002fextra\\u003e\",\"legendgroup\":\"0\",\"marker\":{\"color\":[0,0,0,0,0,0,0,0,0,0,0,0,0,0,0,0,0,0,0,0,0,0,0,0,0,0,0,0,0,0,0,0,0,0,0,0,0,0,0,0,0,0,0,0,0],\"coloraxis\":\"coloraxis\",\"opacity\":0.7,\"symbol\":\"circle\"},\"mode\":\"markers\",\"name\":\"0\",\"scene\":\"scene\",\"showlegend\":true,\"x\":[38,39,40,42,43,43,43,44,44,46,46,47,47,48,48,48,49,49,50,50,54,54,54,54,54,54,54,57,58,59,60,60,61,62,62,62,63,63,63,63,63,65,65,67,67],\"y\":[35,36,55,52,60,45,41,50,46,46,56,52,59,51,50,48,55,42,49,56,47,53,42,51,41,44,46,58,46,55,49,47,42,48,59,56,50,46,43,48,52,43,59,43,57],\"z\":[65,48,50,49,59,50,47,51,69,53,70,67,54,63,43,68,70,47,60,60,59,45,49,57,67,46,48,55,50,68,48,47,48,49,67,49,66,54,68,66,65,63,49,51,50],\"type\":\"scatter3d\"},{\"hovertemplate\":\"Cluster=%{marker.color}\\u003cbr\\u003eAnnual Income (k$)=%{x}\\u003cbr\\u003eSpending Score (1-100)=%{y}\\u003cbr\\u003eAge=%{z}\\u003cextra\\u003e\\u003c\\u002fextra\\u003e\",\"legendgroup\":\"6\",\"marker\":{\"color\":[6,6,6,6,6,6,6,6,6,6,6,6,6,6,6,6,6,6,6,6,6,6,6,6,6,6,6,6,6,6,6,6,6,6,6,6,6,6],\"coloraxis\":\"coloraxis\",\"opacity\":0.7,\"symbol\":\"diamond\"},\"mode\":\"markers\",\"name\":\"6\",\"scene\":\"scene\",\"showlegend\":true,\"x\":[39,40,40,40,42,43,46,46,48,48,48,54,54,54,54,54,57,58,59,60,60,60,60,61,62,62,62,63,64,64,65,65,67,67,69,70,72,76],\"y\":[61,47,42,42,60,54,51,55,59,59,47,54,48,52,55,57,55,60,41,40,42,52,50,49,41,55,42,54,42,46,48,50,56,40,58,29,34,40],\"z\":[31,27,29,31,33,31,27,19,18,19,32,26,40,23,38,21,22,34,18,40,32,24,27,20,23,26,21,19,38,19,18,19,27,38,40,23,25,28],\"type\":\"scatter3d\"},{\"hovertemplate\":\"Cluster=%{marker.color}\\u003cbr\\u003eAnnual Income (k$)=%{x}\\u003cbr\\u003eSpending Score (1-100)=%{y}\\u003cbr\\u003eAge=%{z}\\u003cextra\\u003e\\u003c\\u002fextra\\u003e\",\"legendgroup\":\"1\",\"marker\":{\"color\":[1,1,1,1,1,1,1,1,1,1,1,1,1,1,1,1,1,1,1,1,1,1,1,1,1,1,1,1,1,1,1,1,1,1,1,1,1,1,1],\"coloraxis\":\"coloraxis\",\"opacity\":0.7,\"symbol\":\"circle\"},\"mode\":\"markers\",\"name\":\"1\",\"scene\":\"scene\",\"showlegend\":true,\"x\":[69,70,71,71,71,72,73,73,74,75,76,77,77,78,78,78,78,78,78,79,81,85,86,87,87,87,88,88,93,97,98,99,101,103,103,113,120,126,137],\"y\":[91,77,95,75,75,71,88,73,72,93,87,97,74,90,88,76,89,78,73,83,93,75,95,63,75,92,86,69,90,86,88,97,68,85,69,91,79,74,83],\"z\":[39,31,40,38,39,31,29,32,35,32,32,28,32,34,39,38,27,30,30,29,31,36,33,32,28,36,30,27,35,32,29,30,28,36,32,38,35,32,30],\"type\":\"scatter3d\"},{\"hovertemplate\":\"Cluster=%{marker.color}\\u003cbr\\u003eAnnual Income (k$)=%{x}\\u003cbr\\u003eSpending Score (1-100)=%{y}\\u003cbr\\u003eAge=%{z}\\u003cextra\\u003e\\u003c\\u002fextra\\u003e\",\"legendgroup\":\"4\",\"marker\":{\"color\":[4,4,4,4,4,4,4,4,4,4,4,4,4,4,4,4,4,4,4,4,4,4,4,4,4,4],\"coloraxis\":\"coloraxis\",\"opacity\":0.7,\"symbol\":\"circle\"},\"mode\":\"markers\",\"name\":\"4\",\"scene\":\"scene\",\"showlegend\":true,\"x\":[71,71,71,73,73,74,75,77,77,78,78,78,78,78,78,79,81,85,86,87,87,87,88,88,93,98],\"y\":[35,11,9,5,7,10,5,12,36,22,17,20,16,1,1,35,5,26,20,27,13,10,13,15,14,15],\"z\":[43,59,47,20,44,19,57,25,48,34,43,44,47,37,34,56,19,50,42,36,40,36,52,58,59,46],\"type\":\"scatter3d\"},{\"hovertemplate\":\"Cluster=%{marker.color}\\u003cbr\\u003eAnnual Income (k$)=%{x}\\u003cbr\\u003eSpending Score (1-100)=%{y}\\u003cbr\\u003eAge=%{z}\\u003cextra\\u003e\\u003c\\u002fextra\\u003e\",\"legendgroup\":\"3\",\"marker\":{\"color\":[3,3,3,3,3,3,3,3,3],\"coloraxis\":\"coloraxis\",\"opacity\":0.7,\"symbol\":\"circle\"},\"mode\":\"markers\",\"name\":\"3\",\"scene\":\"scene\",\"showlegend\":true,\"x\":[97,99,101,103,103,113,120,126,137],\"y\":[32,39,24,17,23,8,16,28,18],\"z\":[37,41,54,41,34,33,47,45,32],\"type\":\"scatter3d\"}],                        {\"template\":{\"data\":{\"histogram2dcontour\":[{\"type\":\"histogram2dcontour\",\"colorbar\":{\"outlinewidth\":0,\"ticks\":\"\"},\"colorscale\":[[0.0,\"#0d0887\"],[0.1111111111111111,\"#46039f\"],[0.2222222222222222,\"#7201a8\"],[0.3333333333333333,\"#9c179e\"],[0.4444444444444444,\"#bd3786\"],[0.5555555555555556,\"#d8576b\"],[0.6666666666666666,\"#ed7953\"],[0.7777777777777778,\"#fb9f3a\"],[0.8888888888888888,\"#fdca26\"],[1.0,\"#f0f921\"]]}],\"choropleth\":[{\"type\":\"choropleth\",\"colorbar\":{\"outlinewidth\":0,\"ticks\":\"\"}}],\"histogram2d\":[{\"type\":\"histogram2d\",\"colorbar\":{\"outlinewidth\":0,\"ticks\":\"\"},\"colorscale\":[[0.0,\"#0d0887\"],[0.1111111111111111,\"#46039f\"],[0.2222222222222222,\"#7201a8\"],[0.3333333333333333,\"#9c179e\"],[0.4444444444444444,\"#bd3786\"],[0.5555555555555556,\"#d8576b\"],[0.6666666666666666,\"#ed7953\"],[0.7777777777777778,\"#fb9f3a\"],[0.8888888888888888,\"#fdca26\"],[1.0,\"#f0f921\"]]}],\"heatmap\":[{\"type\":\"heatmap\",\"colorbar\":{\"outlinewidth\":0,\"ticks\":\"\"},\"colorscale\":[[0.0,\"#0d0887\"],[0.1111111111111111,\"#46039f\"],[0.2222222222222222,\"#7201a8\"],[0.3333333333333333,\"#9c179e\"],[0.4444444444444444,\"#bd3786\"],[0.5555555555555556,\"#d8576b\"],[0.6666666666666666,\"#ed7953\"],[0.7777777777777778,\"#fb9f3a\"],[0.8888888888888888,\"#fdca26\"],[1.0,\"#f0f921\"]]}],\"heatmapgl\":[{\"type\":\"heatmapgl\",\"colorbar\":{\"outlinewidth\":0,\"ticks\":\"\"},\"colorscale\":[[0.0,\"#0d0887\"],[0.1111111111111111,\"#46039f\"],[0.2222222222222222,\"#7201a8\"],[0.3333333333333333,\"#9c179e\"],[0.4444444444444444,\"#bd3786\"],[0.5555555555555556,\"#d8576b\"],[0.6666666666666666,\"#ed7953\"],[0.7777777777777778,\"#fb9f3a\"],[0.8888888888888888,\"#fdca26\"],[1.0,\"#f0f921\"]]}],\"contourcarpet\":[{\"type\":\"contourcarpet\",\"colorbar\":{\"outlinewidth\":0,\"ticks\":\"\"}}],\"contour\":[{\"type\":\"contour\",\"colorbar\":{\"outlinewidth\":0,\"ticks\":\"\"},\"colorscale\":[[0.0,\"#0d0887\"],[0.1111111111111111,\"#46039f\"],[0.2222222222222222,\"#7201a8\"],[0.3333333333333333,\"#9c179e\"],[0.4444444444444444,\"#bd3786\"],[0.5555555555555556,\"#d8576b\"],[0.6666666666666666,\"#ed7953\"],[0.7777777777777778,\"#fb9f3a\"],[0.8888888888888888,\"#fdca26\"],[1.0,\"#f0f921\"]]}],\"surface\":[{\"type\":\"surface\",\"colorbar\":{\"outlinewidth\":0,\"ticks\":\"\"},\"colorscale\":[[0.0,\"#0d0887\"],[0.1111111111111111,\"#46039f\"],[0.2222222222222222,\"#7201a8\"],[0.3333333333333333,\"#9c179e\"],[0.4444444444444444,\"#bd3786\"],[0.5555555555555556,\"#d8576b\"],[0.6666666666666666,\"#ed7953\"],[0.7777777777777778,\"#fb9f3a\"],[0.8888888888888888,\"#fdca26\"],[1.0,\"#f0f921\"]]}],\"mesh3d\":[{\"type\":\"mesh3d\",\"colorbar\":{\"outlinewidth\":0,\"ticks\":\"\"}}],\"scatter\":[{\"fillpattern\":{\"fillmode\":\"overlay\",\"size\":10,\"solidity\":0.2},\"type\":\"scatter\"}],\"parcoords\":[{\"type\":\"parcoords\",\"line\":{\"colorbar\":{\"outlinewidth\":0,\"ticks\":\"\"}}}],\"scatterpolargl\":[{\"type\":\"scatterpolargl\",\"marker\":{\"colorbar\":{\"outlinewidth\":0,\"ticks\":\"\"}}}],\"bar\":[{\"error_x\":{\"color\":\"#2a3f5f\"},\"error_y\":{\"color\":\"#2a3f5f\"},\"marker\":{\"line\":{\"color\":\"#E5ECF6\",\"width\":0.5},\"pattern\":{\"fillmode\":\"overlay\",\"size\":10,\"solidity\":0.2}},\"type\":\"bar\"}],\"scattergeo\":[{\"type\":\"scattergeo\",\"marker\":{\"colorbar\":{\"outlinewidth\":0,\"ticks\":\"\"}}}],\"scatterpolar\":[{\"type\":\"scatterpolar\",\"marker\":{\"colorbar\":{\"outlinewidth\":0,\"ticks\":\"\"}}}],\"histogram\":[{\"marker\":{\"pattern\":{\"fillmode\":\"overlay\",\"size\":10,\"solidity\":0.2}},\"type\":\"histogram\"}],\"scattergl\":[{\"type\":\"scattergl\",\"marker\":{\"colorbar\":{\"outlinewidth\":0,\"ticks\":\"\"}}}],\"scatter3d\":[{\"type\":\"scatter3d\",\"line\":{\"colorbar\":{\"outlinewidth\":0,\"ticks\":\"\"}},\"marker\":{\"colorbar\":{\"outlinewidth\":0,\"ticks\":\"\"}}}],\"scattermapbox\":[{\"type\":\"scattermapbox\",\"marker\":{\"colorbar\":{\"outlinewidth\":0,\"ticks\":\"\"}}}],\"scatterternary\":[{\"type\":\"scatterternary\",\"marker\":{\"colorbar\":{\"outlinewidth\":0,\"ticks\":\"\"}}}],\"scattercarpet\":[{\"type\":\"scattercarpet\",\"marker\":{\"colorbar\":{\"outlinewidth\":0,\"ticks\":\"\"}}}],\"carpet\":[{\"aaxis\":{\"endlinecolor\":\"#2a3f5f\",\"gridcolor\":\"white\",\"linecolor\":\"white\",\"minorgridcolor\":\"white\",\"startlinecolor\":\"#2a3f5f\"},\"baxis\":{\"endlinecolor\":\"#2a3f5f\",\"gridcolor\":\"white\",\"linecolor\":\"white\",\"minorgridcolor\":\"white\",\"startlinecolor\":\"#2a3f5f\"},\"type\":\"carpet\"}],\"table\":[{\"cells\":{\"fill\":{\"color\":\"#EBF0F8\"},\"line\":{\"color\":\"white\"}},\"header\":{\"fill\":{\"color\":\"#C8D4E3\"},\"line\":{\"color\":\"white\"}},\"type\":\"table\"}],\"barpolar\":[{\"marker\":{\"line\":{\"color\":\"#E5ECF6\",\"width\":0.5},\"pattern\":{\"fillmode\":\"overlay\",\"size\":10,\"solidity\":0.2}},\"type\":\"barpolar\"}],\"pie\":[{\"automargin\":true,\"type\":\"pie\"}]},\"layout\":{\"autotypenumbers\":\"strict\",\"colorway\":[\"#636efa\",\"#EF553B\",\"#00cc96\",\"#ab63fa\",\"#FFA15A\",\"#19d3f3\",\"#FF6692\",\"#B6E880\",\"#FF97FF\",\"#FECB52\"],\"font\":{\"color\":\"#2a3f5f\"},\"hovermode\":\"closest\",\"hoverlabel\":{\"align\":\"left\"},\"paper_bgcolor\":\"white\",\"plot_bgcolor\":\"#E5ECF6\",\"polar\":{\"bgcolor\":\"#E5ECF6\",\"angularaxis\":{\"gridcolor\":\"white\",\"linecolor\":\"white\",\"ticks\":\"\"},\"radialaxis\":{\"gridcolor\":\"white\",\"linecolor\":\"white\",\"ticks\":\"\"}},\"ternary\":{\"bgcolor\":\"#E5ECF6\",\"aaxis\":{\"gridcolor\":\"white\",\"linecolor\":\"white\",\"ticks\":\"\"},\"baxis\":{\"gridcolor\":\"white\",\"linecolor\":\"white\",\"ticks\":\"\"},\"caxis\":{\"gridcolor\":\"white\",\"linecolor\":\"white\",\"ticks\":\"\"}},\"coloraxis\":{\"colorbar\":{\"outlinewidth\":0,\"ticks\":\"\"}},\"colorscale\":{\"sequential\":[[0.0,\"#0d0887\"],[0.1111111111111111,\"#46039f\"],[0.2222222222222222,\"#7201a8\"],[0.3333333333333333,\"#9c179e\"],[0.4444444444444444,\"#bd3786\"],[0.5555555555555556,\"#d8576b\"],[0.6666666666666666,\"#ed7953\"],[0.7777777777777778,\"#fb9f3a\"],[0.8888888888888888,\"#fdca26\"],[1.0,\"#f0f921\"]],\"sequentialminus\":[[0.0,\"#0d0887\"],[0.1111111111111111,\"#46039f\"],[0.2222222222222222,\"#7201a8\"],[0.3333333333333333,\"#9c179e\"],[0.4444444444444444,\"#bd3786\"],[0.5555555555555556,\"#d8576b\"],[0.6666666666666666,\"#ed7953\"],[0.7777777777777778,\"#fb9f3a\"],[0.8888888888888888,\"#fdca26\"],[1.0,\"#f0f921\"]],\"diverging\":[[0,\"#8e0152\"],[0.1,\"#c51b7d\"],[0.2,\"#de77ae\"],[0.3,\"#f1b6da\"],[0.4,\"#fde0ef\"],[0.5,\"#f7f7f7\"],[0.6,\"#e6f5d0\"],[0.7,\"#b8e186\"],[0.8,\"#7fbc41\"],[0.9,\"#4d9221\"],[1,\"#276419\"]]},\"xaxis\":{\"gridcolor\":\"white\",\"linecolor\":\"white\",\"ticks\":\"\",\"title\":{\"standoff\":15},\"zerolinecolor\":\"white\",\"automargin\":true,\"zerolinewidth\":2},\"yaxis\":{\"gridcolor\":\"white\",\"linecolor\":\"white\",\"ticks\":\"\",\"title\":{\"standoff\":15},\"zerolinecolor\":\"white\",\"automargin\":true,\"zerolinewidth\":2},\"scene\":{\"xaxis\":{\"backgroundcolor\":\"#E5ECF6\",\"gridcolor\":\"white\",\"linecolor\":\"white\",\"showbackground\":true,\"ticks\":\"\",\"zerolinecolor\":\"white\",\"gridwidth\":2},\"yaxis\":{\"backgroundcolor\":\"#E5ECF6\",\"gridcolor\":\"white\",\"linecolor\":\"white\",\"showbackground\":true,\"ticks\":\"\",\"zerolinecolor\":\"white\",\"gridwidth\":2},\"zaxis\":{\"backgroundcolor\":\"#E5ECF6\",\"gridcolor\":\"white\",\"linecolor\":\"white\",\"showbackground\":true,\"ticks\":\"\",\"zerolinecolor\":\"white\",\"gridwidth\":2}},\"shapedefaults\":{\"line\":{\"color\":\"#2a3f5f\"}},\"annotationdefaults\":{\"arrowcolor\":\"#2a3f5f\",\"arrowhead\":0,\"arrowwidth\":1},\"geo\":{\"bgcolor\":\"white\",\"landcolor\":\"#E5ECF6\",\"subunitcolor\":\"white\",\"showland\":true,\"showlakes\":true,\"lakecolor\":\"white\"},\"title\":{\"x\":0.05},\"mapbox\":{\"style\":\"light\"}}},\"scene\":{\"domain\":{\"x\":[0.0,1.0],\"y\":[0.0,1.0]},\"xaxis\":{\"title\":{\"text\":\"Annual Income (k$)\"}},\"yaxis\":{\"title\":{\"text\":\"Spending Score (1-100)\"}},\"zaxis\":{\"title\":{\"text\":\"Age\"}}},\"coloraxis\":{\"colorbar\":{\"title\":{\"text\":\"Cluster\"}},\"colorscale\":[[0.0,\"#0d0887\"],[0.1111111111111111,\"#46039f\"],[0.2222222222222222,\"#7201a8\"],[0.3333333333333333,\"#9c179e\"],[0.4444444444444444,\"#bd3786\"],[0.5555555555555556,\"#d8576b\"],[0.6666666666666666,\"#ed7953\"],[0.7777777777777778,\"#fb9f3a\"],[0.8888888888888888,\"#fdca26\"],[1.0,\"#f0f921\"]]},\"legend\":{\"title\":{\"text\":\"Cluster\"},\"tracegroupgap\":0},\"title\":{\"text\":\"K-Means Clustering with k=7\"},\"height\":850,\"width\":900,\"showlegend\":false},                        {\"responsive\": true}                    ).then(function(){\n",
          "                            \n",
          "var gd = document.getElementById('a0543f04-b7b4-45ff-ade7-eb172b0b7302');\n",
          "var x = new MutationObserver(function (mutations, observer) {{\n",
          "        var display = window.getComputedStyle(gd).display;\n",
          "        if (!display || display === 'none') {{\n",
          "            console.log([gd, 'removed!']);\n",
          "            Plotly.purge(gd);\n",
          "            observer.disconnect();\n",
          "        }}\n",
          "}});\n",
          "\n",
          "// Listen for the removal of the full notebook cells\n",
          "var notebookContainer = gd.closest('#notebook-container');\n",
          "if (notebookContainer) {{\n",
          "    x.observe(notebookContainer, {childList: true});\n",
          "}}\n",
          "\n",
          "// Listen for the clearing of the current output cell\n",
          "var outputEl = gd.closest('.output');\n",
          "if (outputEl) {{\n",
          "    x.observe(outputEl, {childList: true});\n",
          "}}\n",
          "\n",
          "                        })                };                });            </script>        </div>"
         ]
        },
        "metadata": {},
        "output_type": "display_data"
       }
      ],
      "source": [
       "import plotly.graph_objs as go\n",
       "import plotly.express as px\n",
       "from sklearn.cluster import KMeans\n",
       "\n",
       "def kmeans_plotter(train_data, k=7):\n",
       "    # Perform K-Means clustering\n",
       "    kmeans = KMeans(n_clusters=k, random_state=42)\n",
       "    kmeans.fit(train_data)\n",
       "\n",
       "    # Add cluster labels to the dataframe\n",
       "    train_data['label'] = kmeans.labels_\n",
       "\n",
       "    # Create a 3D scatter plot with the clustered data\n",
       "    fig = px.scatter_3d(train_data, x='Annual Income (k$)', y='Spending Score (1-100)', z='Age', color='label',\n",
       "                         symbol='label', symbol_map={0: 'circle', 1: 'circle', 2: 'circle', 3: 'circle', 4: 'circle', 5: 'circle'},\n",
       "                         opacity=0.7, width=900, height=850,\n",
       "                         title=f'K-Means Clustering with k={k}',\n",
       "                         labels={'label': 'Cluster'},\n",
       "                         color_discrete_map={})  # Remove color legend\n",
       "\n",
       "    fig.update_layout(showlegend=False)  # Remove color legend\n",
       "    return fig\n",
       "\n",
       "# Assuming 'train_data' is your DataFrame containing the data\n",
       "\n",
       "# Call the function to create the K-Means clustering plot\n",
       "fig = kmeans_plotter(train_data)\n",
       "fig.show()\n"
      ]
     }
    ],
    "metadata": {
     "kaggle": {
      "accelerator": "none",
      "dataSources": [
       {
        "datasetId": 42674,
        "sourceId": 74935,
        "sourceType": "datasetVersion"
       }
      ],
      "dockerImageVersionId": 30673,
      "isGpuEnabled": false,
      "isInternetEnabled": true,
      "language": "python",
      "sourceType": "notebook"
     },
     "kernelspec": {
      "display_name": "Python 3",
      "language": "python",
      "name": "python3"
     },
     "language_info": {
      "codemirror_mode": {
       "name": "ipython",
       "version": 3
      },
      "file_extension": ".py",
      "mimetype": "text/x-python",
      "name": "python",
      "nbconvert_exporter": "python",
      "pygments_lexer": "ipython3",
      "version": "3.10.13"
     },
     "papermill": {
      "default_parameters": {},
      "duration": 32.043884,
      "end_time": "2024-04-07T20:02:01.677545",
      "environment_variables": {},
      "exception": null,
      "input_path": "__notebook__.ipynb",
      "output_path": "__notebook__.ipynb",
      "parameters": {},
      "start_time": "2024-04-07T20:01:29.633661",
      "version": "2.5.0"
     }
    },
    "nbformat": 4,
    "nbformat_minor": 5
   }